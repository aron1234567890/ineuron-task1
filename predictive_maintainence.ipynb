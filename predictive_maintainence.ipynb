{
  "cells": [
    {
      "cell_type": "code",
      "execution_count": null,
      "metadata": {
        "id": "95b674da"
      },
      "outputs": [],
      "source": [
        "import pandas as pd\n",
        "import numpy as np\n",
        "from sklearn.preprocessing import StandardScaler\n",
        "from sklearn.neighbors import KNeighborsClassifier\n",
        "from sklearn.svm import SVC\n",
        "from sklearn.tree import DecisionTreeClassifier\n",
        "from sklearn.naive_bayes import GaussianNB\n",
        "from sklearn.ensemble import RandomForestClassifier\n",
        "from sklearn.model_selection import train_test_split\n",
        "import pickle\n",
        "import matplotlib.pyplot as plt"
      ],
      "id": "95b674da"
    },
    {
      "cell_type": "code",
      "execution_count": null,
      "metadata": {
        "id": "3b57c495",
        "scrolled": false
      },
      "outputs": [],
      "source": [
        "df1 = pd.read_csv(\"/content/train_FD001.txt\",sep=\" \",header=None)\n",
        "df1.head()\n"
      ],
      "id": "3b57c495"
    },
    {
      "cell_type": "code",
      "execution_count": null,
      "metadata": {
        "id": "ae23f13e"
      },
      "outputs": [],
      "source": [
        "l1=[]\n",
        "for i in range (len(df1[0])):\n",
        "    l1.append(0)\n",
        "df1['target']=l1\n",
        "df1.target"
      ],
      "id": "ae23f13e"
    },
    {
      "cell_type": "code",
      "execution_count": null,
      "metadata": {
        "id": "74effe3d"
      },
      "outputs": [],
      "source": [
        "df1.columns"
      ],
      "id": "74effe3d"
    },
    {
      "cell_type": "code",
      "execution_count": null,
      "metadata": {
        "id": "ef6e6196"
      },
      "outputs": [],
      "source": [
        "df2 = pd.read_csv(\"/content/train_FD002.txt\",sep=\" \",header=None)\n",
        "l2=[]\n",
        "for i in range (len(df2[0])):\n",
        "    l2.append(1)\n",
        "df2['target']=l2\n",
        "df2.target"
      ],
      "id": "ef6e6196"
    },
    {
      "cell_type": "code",
      "execution_count": null,
      "metadata": {
        "id": "eee0302e"
      },
      "outputs": [],
      "source": [
        "df3 = pd.read_csv(\"/content/train_FD003.txt\",sep=\" \",header=None)\n",
        "l3=[]\n",
        "for i in range (len(df3[0])):\n",
        "    l3.append(2)\n",
        "df3['target']=l3\n",
        "df3.target"
      ],
      "id": "eee0302e"
    },
    {
      "cell_type": "code",
      "execution_count": null,
      "metadata": {
        "id": "fa831c07"
      },
      "outputs": [],
      "source": [
        "df4 = pd.read_csv(\"/content/train_FD004.txt\",sep=\" \",header=None)\n",
        "l4=[]\n",
        "for i in range (len(df4[0])):\n",
        "    l4.append(3)\n",
        "df4['target']=l4\n",
        "df4.target"
      ],
      "id": "fa831c07"
    },
    {
      "cell_type": "code",
      "execution_count": null,
      "metadata": {
        "id": "fb856306"
      },
      "outputs": [],
      "source": [
        "frames=[df1,df2,df3,df4]\n",
        "df=pd.concat(frames)\n",
        "df.head()"
      ],
      "id": "fb856306"
    },
    {
      "cell_type": "code",
      "execution_count": null,
      "metadata": {
        "id": "fcb48d99"
      },
      "outputs": [],
      "source": [
        "df=df.dropna(axis=1)\n",
        "df.head()"
      ],
      "id": "fcb48d99"
    },
    {
      "cell_type": "code",
      "execution_count": null,
      "metadata": {
        "id": "c916b94b"
      },
      "outputs": [],
      "source": [
        "df_input=df.drop(['target'],axis=1)\n",
        "df_output=df['target']"
      ],
      "id": "c916b94b"
    },
    {
      "cell_type": "code",
      "execution_count": null,
      "metadata": {
        "id": "74dd5f4d"
      },
      "outputs": [],
      "source": [
        "df_output"
      ],
      "id": "74dd5f4d"
    },
    {
      "cell_type": "code",
      "execution_count": null,
      "metadata": {
        "id": "fd3ed4b3"
      },
      "outputs": [],
      "source": [
        "scaler=StandardScaler()"
      ],
      "id": "fd3ed4b3"
    },
    {
      "cell_type": "code",
      "execution_count": null,
      "metadata": {
        "id": "6a894f47"
      },
      "outputs": [],
      "source": [
        "df_input=scaler.fit_transform(df_input)"
      ],
      "id": "6a894f47"
    },
    {
      "cell_type": "code",
      "execution_count": null,
      "metadata": {
        "id": "6765d7f0"
      },
      "outputs": [],
      "source": [
        "df_input=pd.DataFrame(df_input)\n",
        "df_input.head()"
      ],
      "id": "6765d7f0"
    },
    {
      "cell_type": "code",
      "execution_count": null,
      "metadata": {
        "id": "1450c6d0"
      },
      "outputs": [],
      "source": [
        "df.shape"
      ],
      "id": "1450c6d0"
    },
    {
      "cell_type": "code",
      "execution_count": null,
      "metadata": {
        "id": "e8c8f23e"
      },
      "outputs": [],
      "source": [
        "df.columns"
      ],
      "id": "e8c8f23e"
    },
    {
      "cell_type": "code",
      "execution_count": null,
      "metadata": {
        "id": "70dd2f40"
      },
      "outputs": [],
      "source": [
        "X=df_input\n",
        "y=df_output"
      ],
      "id": "70dd2f40"
    },
    {
      "cell_type": "code",
      "execution_count": null,
      "metadata": {
        "id": "500b98ab"
      },
      "outputs": [],
      "source": [
        "knn=KNeighborsClassifier(n_neighbors=4)\n",
        "svm=SVC()\n",
        "dtc=DecisionTreeClassifier()\n",
        "nb=GaussianNB()\n",
        "rfc=RandomForestClassifier()"
      ],
      "id": "500b98ab"
    },
    {
      "cell_type": "code",
      "execution_count": null,
      "metadata": {
        "id": "a0e26fcc"
      },
      "outputs": [],
      "source": [
        "X_train,X_test,y_train,y_test=train_test_split(X,y,train_size=0.7,random_state=42)"
      ],
      "id": "a0e26fcc"
    },
    {
      "cell_type": "code",
      "execution_count": null,
      "metadata": {
        "id": "398b8127"
      },
      "outputs": [],
      "source": [
        "X_train.shape"
      ],
      "id": "398b8127"
    },
    {
      "cell_type": "code",
      "execution_count": null,
      "metadata": {
        "id": "f28dc047"
      },
      "outputs": [],
      "source": [
        "y_train"
      ],
      "id": "f28dc047"
    },
    {
      "cell_type": "code",
      "source": [
        "rfc.fit(X_train,y_train)"
      ],
      "metadata": {
        "id": "HnHY2rr10Z85"
      },
      "id": "HnHY2rr10Z85",
      "execution_count": null,
      "outputs": []
    },
    {
      "cell_type": "code",
      "execution_count": null,
      "metadata": {
        "id": "571818e1"
      },
      "outputs": [],
      "source": [
        "knn.fit(X_train,y_train)"
      ],
      "id": "571818e1"
    },
    {
      "cell_type": "code",
      "source": [
        "nb.fit(X_train,y_train)"
      ],
      "metadata": {
        "id": "35HSYKiVzukR"
      },
      "id": "35HSYKiVzukR",
      "execution_count": null,
      "outputs": []
    },
    {
      "cell_type": "code",
      "source": [
        "dtc.fit(X_train,y_train)"
      ],
      "metadata": {
        "id": "GW2aP4FeyGSv"
      },
      "id": "GW2aP4FeyGSv",
      "execution_count": null,
      "outputs": []
    },
    {
      "cell_type": "code",
      "source": [
        "random_forest=rfc.score(X_test,y_test)"
      ],
      "metadata": {
        "id": "MV2Hlrmy0k2_"
      },
      "id": "MV2Hlrmy0k2_",
      "execution_count": null,
      "outputs": []
    },
    {
      "cell_type": "code",
      "source": [
        "naive_bayes=nb.score(X_test,y_test)"
      ],
      "metadata": {
        "id": "ftsr72Mjz5M_"
      },
      "id": "ftsr72Mjz5M_",
      "execution_count": null,
      "outputs": []
    },
    {
      "cell_type": "code",
      "execution_count": null,
      "metadata": {
        "id": "6pjoOHgPDRVK"
      },
      "outputs": [],
      "source": [
        "nearest_neightbor=knn.score(X_test,y_test)"
      ],
      "id": "6pjoOHgPDRVK"
    },
    {
      "cell_type": "code",
      "source": [
        "decision_tree=dtc.score(X_test,y_test)"
      ],
      "metadata": {
        "id": "aSFS92eNyT0J"
      },
      "id": "aSFS92eNyT0J",
      "execution_count": null,
      "outputs": []
    },
    {
      "cell_type": "code",
      "execution_count": null,
      "metadata": {
        "id": "VWiaO_DbHwOR"
      },
      "outputs": [],
      "source": [
        "set(y_test)"
      ],
      "id": "VWiaO_DbHwOR"
    },
    {
      "cell_type": "code",
      "execution_count": null,
      "metadata": {
        "id": "HQfBdD8cJBIU"
      },
      "outputs": [],
      "source": [
        "i=y_test\n",
        "j=len(y_test)\n"
      ],
      "id": "HQfBdD8cJBIU"
    },
    {
      "cell_type": "code",
      "execution_count": null,
      "metadata": {
        "id": "N2c-qXf2J08n"
      },
      "outputs": [],
      "source": [
        "l=knn.predict(X_test)\n",
        "m=len(y_test)"
      ],
      "id": "N2c-qXf2J08n"
    },
    {
      "cell_type": "code",
      "execution_count": null,
      "metadata": {
        "id": "Eu2YVRqfQmrI"
      },
      "outputs": [],
      "source": [
        "df_test1=pd.read_csv('/content/test_FD001.txt',sep=' ',header=None)\n",
        "t1=[]\n",
        "for i in range (len(df_test1[0])):\n",
        "    t1.append(0)\n",
        "df_test1['target']=t1\n",
        "# df_test1.target"
      ],
      "id": "Eu2YVRqfQmrI"
    },
    {
      "cell_type": "code",
      "execution_count": null,
      "metadata": {
        "id": "wTm3_cd2SNv4"
      },
      "outputs": [],
      "source": [
        "df_test2=pd.read_csv('/content/test_FD002.txt',sep=' ',header=None)\n",
        "t2=[]\n",
        "for i in range (len(df_test2[1])):\n",
        "    t2.append(1)\n",
        "df_test2['target']=t2\n",
        "# df_test2.target"
      ],
      "id": "wTm3_cd2SNv4"
    },
    {
      "cell_type": "code",
      "execution_count": null,
      "metadata": {
        "id": "iaFito83SOh-"
      },
      "outputs": [],
      "source": [
        "df_test3=pd.read_csv('/content/test_FD003.txt',sep=' ',header=None)\n",
        "t3=[]\n",
        "for i in range (len(df_test3[2])):\n",
        "    t3.append(2)\n",
        "df_test3['target']=t3\n",
        "# df_test3.target"
      ],
      "id": "iaFito83SOh-"
    },
    {
      "cell_type": "code",
      "execution_count": null,
      "metadata": {
        "id": "5F5LSTZRSOHV"
      },
      "outputs": [],
      "source": [
        "df_test4=pd.read_csv('/content/test_FD004.txt',sep=' ',header=None)\n",
        "t4=[]\n",
        "for i in range (len(df_test4[3])):\n",
        "    t4.append(3)\n",
        "df_test4['target']=t4\n",
        "# df_test4.target"
      ],
      "id": "5F5LSTZRSOHV"
    },
    {
      "cell_type": "code",
      "source": [
        "frames1=[df_test1,df_test2,df_test3,df_test4]\n",
        "df_test=pd.concat(frames1)\n",
        "df_test.head()"
      ],
      "metadata": {
        "id": "d8Pd9LdCpRJX"
      },
      "id": "d8Pd9LdCpRJX",
      "execution_count": null,
      "outputs": []
    },
    {
      "cell_type": "code",
      "source": [
        "df_test=df_test.drop([26,27],axis=1)\n",
        "df_test=df_test.fillna(df_test.mean)"
      ],
      "metadata": {
        "id": "WJ5lyjWpqNQ8"
      },
      "id": "WJ5lyjWpqNQ8",
      "execution_count": null,
      "outputs": []
    },
    {
      "cell_type": "code",
      "source": [
        "df_test.head()"
      ],
      "metadata": {
        "id": "TkfzxJwRrSSR"
      },
      "id": "TkfzxJwRrSSR",
      "execution_count": null,
      "outputs": []
    },
    {
      "cell_type": "code",
      "source": [
        "o=df_test.drop(['target'],axis=1)\n",
        "p=df_test['target']"
      ],
      "metadata": {
        "id": "0ygYHpXltf2K"
      },
      "id": "0ygYHpXltf2K",
      "execution_count": null,
      "outputs": []
    },
    {
      "cell_type": "code",
      "source": [
        "scaler1=StandardScaler()"
      ],
      "metadata": {
        "id": "aF-QgQssrpfs"
      },
      "id": "aF-QgQssrpfs",
      "execution_count": null,
      "outputs": []
    },
    {
      "cell_type": "code",
      "source": [
        "o=scaler1.fit_transform(o)\n",
        "o=pd.DataFrame(o)\n",
        "o.head()"
      ],
      "metadata": {
        "id": "00pJhH2jsIgi"
      },
      "id": "00pJhH2jsIgi",
      "execution_count": null,
      "outputs": []
    },
    {
      "cell_type": "code",
      "source": [
        "nearest_neighbor1=knn.score(o,p)"
      ],
      "metadata": {
        "id": "GKFpVo_FsUMX"
      },
      "id": "GKFpVo_FsUMX",
      "execution_count": null,
      "outputs": []
    },
    {
      "cell_type": "code",
      "source": [
        "decision_tree1=dtc.score(o,p)"
      ],
      "metadata": {
        "id": "qMrP2MGV08PH"
      },
      "id": "qMrP2MGV08PH",
      "execution_count": null,
      "outputs": []
    },
    {
      "cell_type": "code",
      "source": [
        "naive_bayes1=nb.score(o,p)"
      ],
      "metadata": {
        "id": "iZI-cnJw1PyG"
      },
      "id": "iZI-cnJw1PyG",
      "execution_count": null,
      "outputs": []
    },
    {
      "cell_type": "code",
      "source": [
        "random_forest1=rfc.score(o,p)"
      ],
      "metadata": {
        "id": "2wew26O21QIJ"
      },
      "id": "2wew26O21QIJ",
      "execution_count": null,
      "outputs": []
    },
    {
      "cell_type": "code",
      "source": [
        "nearest=(nearest_neighbor1+nearest_neightbor)/2"
      ],
      "metadata": {
        "id": "-dHm5YiTw7Ct"
      },
      "id": "-dHm5YiTw7Ct",
      "execution_count": null,
      "outputs": []
    },
    {
      "cell_type": "code",
      "source": [
        "decision=(decision_tree1+decision_tree)/2"
      ],
      "metadata": {
        "id": "HhBzcQ-q3mSR"
      },
      "id": "HhBzcQ-q3mSR",
      "execution_count": null,
      "outputs": []
    },
    {
      "cell_type": "code",
      "source": [
        "naive=(naive_bayes+naive_bayes1)/2"
      ],
      "metadata": {
        "id": "8HgTlJHC3m-G"
      },
      "id": "8HgTlJHC3m-G",
      "execution_count": null,
      "outputs": []
    },
    {
      "cell_type": "code",
      "source": [
        "random=(random_forest1+random_forest)/2"
      ],
      "metadata": {
        "id": "OuSzM_dc3mqG"
      },
      "id": "OuSzM_dc3mqG",
      "execution_count": null,
      "outputs": []
    },
    {
      "cell_type": "code",
      "source": [
        "all_values={'K nearest neighbor':nearest,\n",
        "          'naive bayes':naive,\n",
        "          'decision tree':decision,\n",
        "          'Random forest':random}"
      ],
      "metadata": {
        "id": "IzddQ3X14DN5"
      },
      "id": "IzddQ3X14DN5",
      "execution_count": null,
      "outputs": []
    },
    {
      "cell_type": "code",
      "source": [
        "maximum=max(all_values.values())"
      ],
      "metadata": {
        "id": "z3ntIdD94Q4s"
      },
      "id": "z3ntIdD94Q4s",
      "execution_count": null,
      "outputs": []
    },
    {
      "cell_type": "code",
      "source": [
        "print(f'{maximum} % ')"
      ],
      "metadata": {
        "id": "cJ4V8QEk4eaZ"
      },
      "id": "cJ4V8QEk4eaZ",
      "execution_count": null,
      "outputs": []
    },
    {
      "cell_type": "code",
      "source": [],
      "metadata": {
        "id": "GReICz_Q6Hzt"
      },
      "id": "GReICz_Q6Hzt",
      "execution_count": null,
      "outputs": []
    }
  ],
  "metadata": {
    "accelerator": "GPU",
    "colab": {
      "provenance": [],
      "private_outputs": true,
      "gpuType": "T4"
    },
    "kernelspec": {
      "display_name": "Python 3",
      "name": "python3"
    },
    "language_info": {
      "codemirror_mode": {
        "name": "ipython",
        "version": 3
      },
      "file_extension": ".py",
      "mimetype": "text/x-python",
      "name": "python",
      "nbconvert_exporter": "python",
      "pygments_lexer": "ipython3",
      "version": "3.9.13"
    }
  },
  "nbformat": 4,
  "nbformat_minor": 5
}